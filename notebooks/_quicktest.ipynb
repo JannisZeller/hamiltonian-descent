{
 "cells": [
  {
   "attachments": {},
   "cell_type": "markdown",
   "metadata": {},
   "source": [
    "# Quicktest Notebook\n",
    "---"
   ]
  },
  {
   "cell_type": "code",
   "execution_count": 5,
   "metadata": {},
   "outputs": [],
   "source": [
    "## Tensorflow related\n",
    "import tensorflow as tf\n",
    "import tensorflow.keras as keras\n",
    "import tensorflow.keras.layers as layers\n",
    "\n",
    "## General\n",
    "import numpy as np\n",
    "import matplotlib.pyplot as plt\n",
    "\n",
    "## Hagrad custom optimizer\n",
    "import sys; \n",
    "if \"..\\\\\" not in sys.path: sys.path.append(\"..\\\\\")\n",
    "from src.hagrad_v2 import Hagrad\n",
    "from src.kinetic_energy_gradients import KineticEnergyGradients"
   ]
  },
  {
   "cell_type": "code",
   "execution_count": 6,
   "metadata": {},
   "outputs": [
    {
     "name": "stdout",
     "output_type": "stream",
     "text": [
      "{'name': 'hagrad', 'epsilon': 1.0, 'gamma': 10.0, 'delta': 0.09090909090909091}\n"
     ]
    },
    {
     "ename": "ValueError",
     "evalue": "Could not interpret optimizer identifier: <src.hagrad_v2.Hagrad object at 0x00000212C342D490>",
     "output_type": "error",
     "traceback": [
      "\u001b[1;31m---------------------------------------------------------------------------\u001b[0m",
      "\u001b[1;31mValueError\u001b[0m                                Traceback (most recent call last)",
      "\u001b[1;32mg:\\coding\\hamiltonian-descent\\notebooks\\_quicktest.ipynb Cell 3\u001b[0m in \u001b[0;36m<cell line: 22>\u001b[1;34m()\u001b[0m\n\u001b[0;32m     <a href='vscode-notebook-cell:/g%3A/coding/hamiltonian-descent/notebooks/_quicktest.ipynb#W1sZmlsZQ%3D%3D?line=13'>14</a>\u001b[0m model \u001b[39m=\u001b[39m keras\u001b[39m.\u001b[39mmodels\u001b[39m.\u001b[39mSequential([\n\u001b[0;32m     <a href='vscode-notebook-cell:/g%3A/coding/hamiltonian-descent/notebooks/_quicktest.ipynb#W1sZmlsZQ%3D%3D?line=14'>15</a>\u001b[0m     keras\u001b[39m.\u001b[39mlayers\u001b[39m.\u001b[39mFlatten(),\n\u001b[0;32m     <a href='vscode-notebook-cell:/g%3A/coding/hamiltonian-descent/notebooks/_quicktest.ipynb#W1sZmlsZQ%3D%3D?line=15'>16</a>\u001b[0m     keras\u001b[39m.\u001b[39mlayers\u001b[39m.\u001b[39mDense(\u001b[39m8\u001b[39m, activation\u001b[39m=\u001b[39m\u001b[39m\"\u001b[39m\u001b[39mrelu\u001b[39m\u001b[39m\"\u001b[39m),\n\u001b[0;32m     <a href='vscode-notebook-cell:/g%3A/coding/hamiltonian-descent/notebooks/_quicktest.ipynb#W1sZmlsZQ%3D%3D?line=16'>17</a>\u001b[0m     keras\u001b[39m.\u001b[39mlayers\u001b[39m.\u001b[39mDense(\u001b[39m8\u001b[39m, activation\u001b[39m=\u001b[39m\u001b[39m\"\u001b[39m\u001b[39mrelu\u001b[39m\u001b[39m\"\u001b[39m),\n\u001b[0;32m     <a href='vscode-notebook-cell:/g%3A/coding/hamiltonian-descent/notebooks/_quicktest.ipynb#W1sZmlsZQ%3D%3D?line=17'>18</a>\u001b[0m     keras\u001b[39m.\u001b[39mlayers\u001b[39m.\u001b[39mDense(\u001b[39m1\u001b[39m, activation\u001b[39m=\u001b[39m\u001b[39m\"\u001b[39m\u001b[39msigmoid\u001b[39m\u001b[39m\"\u001b[39m)\n\u001b[0;32m     <a href='vscode-notebook-cell:/g%3A/coding/hamiltonian-descent/notebooks/_quicktest.ipynb#W1sZmlsZQ%3D%3D?line=18'>19</a>\u001b[0m ])\n\u001b[0;32m     <a href='vscode-notebook-cell:/g%3A/coding/hamiltonian-descent/notebooks/_quicktest.ipynb#W1sZmlsZQ%3D%3D?line=20'>21</a>\u001b[0m \u001b[39m## Compile Model\u001b[39;00m\n\u001b[1;32m---> <a href='vscode-notebook-cell:/g%3A/coding/hamiltonian-descent/notebooks/_quicktest.ipynb#W1sZmlsZQ%3D%3D?line=21'>22</a>\u001b[0m model\u001b[39m.\u001b[39;49mcompile(\n\u001b[0;32m     <a href='vscode-notebook-cell:/g%3A/coding/hamiltonian-descent/notebooks/_quicktest.ipynb#W1sZmlsZQ%3D%3D?line=22'>23</a>\u001b[0m     loss\u001b[39m=\u001b[39;49mkeras\u001b[39m.\u001b[39;49mlosses\u001b[39m.\u001b[39;49mbinary_crossentropy, \n\u001b[0;32m     <a href='vscode-notebook-cell:/g%3A/coding/hamiltonian-descent/notebooks/_quicktest.ipynb#W1sZmlsZQ%3D%3D?line=23'>24</a>\u001b[0m     optimizer\u001b[39m=\u001b[39;49mhagrad, \n\u001b[0;32m     <a href='vscode-notebook-cell:/g%3A/coding/hamiltonian-descent/notebooks/_quicktest.ipynb#W1sZmlsZQ%3D%3D?line=24'>25</a>\u001b[0m     metrics\u001b[39m=\u001b[39;49m[\u001b[39m\"\u001b[39;49m\u001b[39maccuracy\u001b[39;49m\u001b[39m\"\u001b[39;49m])\n\u001b[0;32m     <a href='vscode-notebook-cell:/g%3A/coding/hamiltonian-descent/notebooks/_quicktest.ipynb#W1sZmlsZQ%3D%3D?line=26'>27</a>\u001b[0m model\u001b[39m.\u001b[39mfit(X, y, epochs\u001b[39m=\u001b[39m\u001b[39m10\u001b[39m, batch_size\u001b[39m=\u001b[39m\u001b[39m32\u001b[39m)\n",
      "File \u001b[1;32mg:\\miniconda3\\envs\\tensorflow-gpu\\lib\\site-packages\\keras\\engine\\training.py:558\u001b[0m, in \u001b[0;36mModel.compile\u001b[1;34m(self, optimizer, loss, metrics, loss_weights, weighted_metrics, run_eagerly, steps_per_execution, **kwargs)\u001b[0m\n\u001b[0;32m    555\u001b[0m \u001b[39mself\u001b[39m\u001b[39m.\u001b[39m_validate_compile(optimizer, metrics, \u001b[39m*\u001b[39m\u001b[39m*\u001b[39mkwargs)\n\u001b[0;32m    556\u001b[0m \u001b[39mself\u001b[39m\u001b[39m.\u001b[39m_run_eagerly \u001b[39m=\u001b[39m run_eagerly\n\u001b[1;32m--> 558\u001b[0m \u001b[39mself\u001b[39m\u001b[39m.\u001b[39moptimizer \u001b[39m=\u001b[39m \u001b[39mself\u001b[39;49m\u001b[39m.\u001b[39;49m_get_optimizer(optimizer)\n\u001b[0;32m    559\u001b[0m \u001b[39mself\u001b[39m\u001b[39m.\u001b[39mcompiled_loss \u001b[39m=\u001b[39m compile_utils\u001b[39m.\u001b[39mLossesContainer(\n\u001b[0;32m    560\u001b[0m     loss, loss_weights, output_names\u001b[39m=\u001b[39m\u001b[39mself\u001b[39m\u001b[39m.\u001b[39moutput_names)\n\u001b[0;32m    561\u001b[0m \u001b[39mself\u001b[39m\u001b[39m.\u001b[39mcompiled_metrics \u001b[39m=\u001b[39m compile_utils\u001b[39m.\u001b[39mMetricsContainer(\n\u001b[0;32m    562\u001b[0m     metrics, weighted_metrics, output_names\u001b[39m=\u001b[39m\u001b[39mself\u001b[39m\u001b[39m.\u001b[39moutput_names,\n\u001b[0;32m    563\u001b[0m     from_serialized\u001b[39m=\u001b[39mfrom_serialized)\n",
      "File \u001b[1;32mg:\\miniconda3\\envs\\tensorflow-gpu\\lib\\site-packages\\keras\\engine\\training.py:596\u001b[0m, in \u001b[0;36mModel._get_optimizer\u001b[1;34m(self, optimizer)\u001b[0m\n\u001b[0;32m    593\u001b[0m       opt \u001b[39m=\u001b[39m lso\u001b[39m.\u001b[39mLossScaleOptimizerV1(opt, loss_scale)\n\u001b[0;32m    594\u001b[0m   \u001b[39mreturn\u001b[39;00m opt\n\u001b[1;32m--> 596\u001b[0m \u001b[39mreturn\u001b[39;00m tf\u001b[39m.\u001b[39;49mnest\u001b[39m.\u001b[39;49mmap_structure(_get_single_optimizer, optimizer)\n",
      "File \u001b[1;32mg:\\miniconda3\\envs\\tensorflow-gpu\\lib\\site-packages\\tensorflow\\python\\util\\nest.py:869\u001b[0m, in \u001b[0;36mmap_structure\u001b[1;34m(func, *structure, **kwargs)\u001b[0m\n\u001b[0;32m    865\u001b[0m flat_structure \u001b[39m=\u001b[39m (flatten(s, expand_composites) \u001b[39mfor\u001b[39;00m s \u001b[39min\u001b[39;00m structure)\n\u001b[0;32m    866\u001b[0m entries \u001b[39m=\u001b[39m \u001b[39mzip\u001b[39m(\u001b[39m*\u001b[39mflat_structure)\n\u001b[0;32m    868\u001b[0m \u001b[39mreturn\u001b[39;00m pack_sequence_as(\n\u001b[1;32m--> 869\u001b[0m     structure[\u001b[39m0\u001b[39m], [func(\u001b[39m*\u001b[39mx) \u001b[39mfor\u001b[39;00m x \u001b[39min\u001b[39;00m entries],\n\u001b[0;32m    870\u001b[0m     expand_composites\u001b[39m=\u001b[39mexpand_composites)\n",
      "File \u001b[1;32mg:\\miniconda3\\envs\\tensorflow-gpu\\lib\\site-packages\\tensorflow\\python\\util\\nest.py:869\u001b[0m, in \u001b[0;36m<listcomp>\u001b[1;34m(.0)\u001b[0m\n\u001b[0;32m    865\u001b[0m flat_structure \u001b[39m=\u001b[39m (flatten(s, expand_composites) \u001b[39mfor\u001b[39;00m s \u001b[39min\u001b[39;00m structure)\n\u001b[0;32m    866\u001b[0m entries \u001b[39m=\u001b[39m \u001b[39mzip\u001b[39m(\u001b[39m*\u001b[39mflat_structure)\n\u001b[0;32m    868\u001b[0m \u001b[39mreturn\u001b[39;00m pack_sequence_as(\n\u001b[1;32m--> 869\u001b[0m     structure[\u001b[39m0\u001b[39m], [func(\u001b[39m*\u001b[39;49mx) \u001b[39mfor\u001b[39;00m x \u001b[39min\u001b[39;00m entries],\n\u001b[0;32m    870\u001b[0m     expand_composites\u001b[39m=\u001b[39mexpand_composites)\n",
      "File \u001b[1;32mg:\\miniconda3\\envs\\tensorflow-gpu\\lib\\site-packages\\keras\\engine\\training.py:587\u001b[0m, in \u001b[0;36mModel._get_optimizer.<locals>._get_single_optimizer\u001b[1;34m(opt)\u001b[0m\n\u001b[0;32m    586\u001b[0m \u001b[39mdef\u001b[39;00m \u001b[39m_get_single_optimizer\u001b[39m(opt):\n\u001b[1;32m--> 587\u001b[0m   opt \u001b[39m=\u001b[39m optimizers\u001b[39m.\u001b[39;49mget(opt)\n\u001b[0;32m    588\u001b[0m   \u001b[39mif\u001b[39;00m (loss_scale \u001b[39mis\u001b[39;00m \u001b[39mnot\u001b[39;00m \u001b[39mNone\u001b[39;00m \u001b[39mand\u001b[39;00m\n\u001b[0;32m    589\u001b[0m       \u001b[39mnot\u001b[39;00m \u001b[39misinstance\u001b[39m(opt, lso\u001b[39m.\u001b[39mLossScaleOptimizer)):\n\u001b[0;32m    590\u001b[0m     \u001b[39mif\u001b[39;00m loss_scale \u001b[39m==\u001b[39m \u001b[39m'\u001b[39m\u001b[39mdynamic\u001b[39m\u001b[39m'\u001b[39m:\n",
      "File \u001b[1;32mg:\\miniconda3\\envs\\tensorflow-gpu\\lib\\site-packages\\keras\\optimizers.py:132\u001b[0m, in \u001b[0;36mget\u001b[1;34m(identifier)\u001b[0m\n\u001b[0;32m    130\u001b[0m   \u001b[39mreturn\u001b[39;00m deserialize(config)\n\u001b[0;32m    131\u001b[0m \u001b[39melse\u001b[39;00m:\n\u001b[1;32m--> 132\u001b[0m   \u001b[39mraise\u001b[39;00m \u001b[39mValueError\u001b[39;00m(\n\u001b[0;32m    133\u001b[0m       \u001b[39m'\u001b[39m\u001b[39mCould not interpret optimizer identifier: \u001b[39m\u001b[39m{}\u001b[39;00m\u001b[39m'\u001b[39m\u001b[39m.\u001b[39mformat(identifier))\n",
      "\u001b[1;31mValueError\u001b[0m: Could not interpret optimizer identifier: <src.hagrad_v2.Hagrad object at 0x00000212C342D490>"
     ]
    }
   ],
   "source": [
    "## Define Optimizer\n",
    "# hagrad = Hagrad(\n",
    "#     p0_mean=0.001,\n",
    "#     kinetic_energy_gradient=KineticEnergyGradients.relativistic())\n",
    "hagrad = Hagrad()\n",
    "# hagrad = keras.optimizers.Adam()\n",
    "print(hagrad.get_config())\n",
    "\n",
    "## Generating Data (checkerboard)\n",
    "X = 2 * (np.random.rand(1000, 2) - 0.5)\n",
    "y = np.array(X[:, 0] * X[:, 1] > 0, np.int32)\n",
    "\n",
    "## Define Model\n",
    "model = keras.models.Sequential([\n",
    "    keras.layers.Flatten(),\n",
    "    keras.layers.Dense(8, activation=\"relu\"),\n",
    "    keras.layers.Dense(8, activation=\"relu\"),\n",
    "    keras.layers.Dense(1, activation=\"sigmoid\")\n",
    "])\n",
    "\n",
    "## Compile Model\n",
    "model.compile(\n",
    "    loss=keras.losses.binary_crossentropy, \n",
    "    optimizer=hagrad, \n",
    "    metrics=[\"accuracy\"])\n",
    "\n",
    "model.fit(X, y, epochs=10, batch_size=32)"
   ]
  }
 ],
 "metadata": {
  "kernelspec": {
   "display_name": "tensorflow-gpu",
   "language": "python",
   "name": "python3"
  },
  "language_info": {
   "codemirror_mode": {
    "name": "ipython",
    "version": 3
   },
   "file_extension": ".py",
   "mimetype": "text/x-python",
   "name": "python",
   "nbconvert_exporter": "python",
   "pygments_lexer": "ipython3",
   "version": "3.9.12"
  },
  "orig_nbformat": 4,
  "vscode": {
   "interpreter": {
    "hash": "9da7387ac238462230b0dbd9bf3fc9372aae1b82f76d8141914412c04a1575e6"
   }
  }
 },
 "nbformat": 4,
 "nbformat_minor": 2
}
