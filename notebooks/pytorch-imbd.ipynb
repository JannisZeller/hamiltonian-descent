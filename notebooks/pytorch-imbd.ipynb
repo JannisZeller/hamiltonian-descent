{
 "cells": [
  {
   "attachments": {},
   "cell_type": "markdown",
   "metadata": {},
   "source": [
    "# IMdB with HaGraD, backed by  <img src=\"https://upload.wikimedia.org/wikipedia/commons/1/10/PyTorch_logo_icon.svg\" style=\"height:0.75em\"/>PyTorch\n",
    "\n",
    "---"
   ]
  },
  {
   "attachments": {},
   "cell_type": "markdown",
   "metadata": {},
   "source": [
    "### Setup"
   ]
  },
  {
   "cell_type": "code",
   "execution_count": 1,
   "metadata": {},
   "outputs": [],
   "source": [
    "## Stuff from torch\n",
    "import torch\n",
    "from torch import nn\n",
    "from torch.utils.data import DataLoader\n",
    "from torch.hub import load_state_dict_from_url\n",
    "\n",
    "## Stuff from torchtext\n",
    "from torchtext.datasets import IMDB\n",
    "from torchtext.data import get_tokenizer\n",
    "import torchtext.functional as F\n",
    "import torchtext.vocab as ttv\n",
    "\n",
    "## Misc\n",
    "import string\n",
    "from nltk.corpus import stopwords\n",
    "from torchsummary import summary\n",
    "\n",
    "## Additional stuff\n",
    "import matplotlib.pyplot as plt\n",
    "import sys\n",
    "if \"..\\\\\" not in sys.path: sys.path.append(\"..\\\\\")\n",
    "from src.torch_hagrad import Hagrad"
   ]
  },
  {
   "attachments": {},
   "cell_type": "markdown",
   "metadata": {},
   "source": [
    "---\n",
    "\n",
    "### Data Preprocessing"
   ]
  },
  {
   "cell_type": "code",
   "execution_count": 2,
   "metadata": {},
   "outputs": [],
   "source": [
    "trn_rawpipe = IMDB(split=\"train\")\n",
    "tst_rawpipe = IMDB(split=\"test\")"
   ]
  },
  {
   "cell_type": "code",
   "execution_count": 3,
   "metadata": {},
   "outputs": [],
   "source": [
    "## Preprocessor\n",
    "stop_words = stopwords.words('english')\n",
    "tokenizer = get_tokenizer(\"basic_english\")\n",
    "def tokenize(x):\n",
    "    text = \"\".join([char for char in x[1] if char not in string.punctuation])\n",
    "    text = tokenizer(text)\n",
    "    text = [word for word in text if word not in stop_words]\n",
    "    return text, x[0]\n",
    "\n",
    "## Vocab Iterator\n",
    "def yield_tokens(text_datapipe):\n",
    "    for x in text_datapipe:\n",
    "        yield x[0]"
   ]
  },
  {
   "cell_type": "code",
   "execution_count": 4,
   "metadata": {},
   "outputs": [],
   "source": [
    "## Preprocessing Data\n",
    "trn_tokenpipe = trn_rawpipe.map(tokenize)\n",
    "tst_tokenpipe = tst_rawpipe.map(tokenize)"
   ]
  },
  {
   "cell_type": "code",
   "execution_count": 5,
   "metadata": {},
   "outputs": [],
   "source": [
    "## Constructing Vocab (using train data)\n",
    "#  Saving time when rerunning the notebook...\n",
    "if 'vocab' not in locals():\n",
    "    vocab = ttv.build_vocab_from_iterator(\n",
    "        yield_tokens(trn_tokenpipe), specials=[\"<unk>\"], max_tokens=1024)\n",
    "    vocab.set_default_index(0)"
   ]
  },
  {
   "attachments": {},
   "cell_type": "markdown",
   "metadata": {},
   "source": [
    "### Finalize <span style=\"color:#4bc9b0;font-family:'CaskaydiaCove NF', 'Cascadia Code', Consolas, monospace\">DataLoaders</span>"
   ]
  },
  {
   "cell_type": "code",
   "execution_count": 6,
   "metadata": {},
   "outputs": [],
   "source": [
    "batch_size = 64\n",
    "\n",
    "# Transform the raw dataset using non-batched API (i.e apply transformation line by line)\n",
    "def vocab_lookup(x):\n",
    "    return vocab.lookup_indices(x[0]), x[1]\n",
    "\n",
    "trn_datapipe = trn_tokenpipe.map(vocab_lookup)\n",
    "trn_datapipe = trn_datapipe.batch(batch_size)\n",
    "trn_datapipe = trn_datapipe.rows2columnar([\"token_ids\", \"target\"])\n",
    "trn_dataloader = DataLoader(trn_datapipe, batch_size=None)\n",
    "\n",
    "tst_datapipe = tst_tokenpipe.map(vocab_lookup)\n",
    "tst_datapipe = tst_datapipe.batch(batch_size)\n",
    "tst_datapipe = tst_datapipe.rows2columnar([\"token_ids\", \"target\"])\n",
    "tst_dataloader = DataLoader(tst_datapipe, batch_size=None)"
   ]
  },
  {
   "attachments": {},
   "cell_type": "markdown",
   "metadata": {},
   "source": [
    "___\n",
    "\n",
    "### Define Model"
   ]
  },
  {
   "cell_type": "code",
   "execution_count": 7,
   "metadata": {},
   "outputs": [
    {
     "name": "stdout",
     "output_type": "stream",
     "text": [
      "Using cuda device.\n"
     ]
    }
   ],
   "source": [
    "# Get cpu or gpu device for training.\n",
    "device = \"cuda\" if torch.cuda.is_available() else \"mps\" if torch.backends.mps.is_available() else \"cpu\"\n",
    "print(f\"Using {device} device.\")\n",
    "\n",
    "# device = \"cpu\""
   ]
  },
  {
   "cell_type": "code",
   "execution_count": 8,
   "metadata": {},
   "outputs": [],
   "source": [
    "padding_idx = 0\n",
    "num_classes = 2\n",
    "vocab_size = len(vocab)\n",
    "embedding_size = 64\n",
    "gru_hidden_size = 64\n",
    "linear_size = 64"
   ]
  },
  {
   "cell_type": "code",
   "execution_count": 9,
   "metadata": {},
   "outputs": [],
   "source": [
    "# Define model\n",
    "class BidirLSTM(nn.Module):\n",
    "    def __init__(self):\n",
    "        super().__init__()\n",
    "        self.embedding  = nn.Embedding(vocab_size, embedding_size, \n",
    "                                       padding_idx=padding_idx)\n",
    "        self.gru        = nn.GRU(embedding_size, gru_hidden_size, \n",
    "                                 batch_first=True,\n",
    "                                 bidirectional=True)\n",
    "        self.dense      = nn.Sequential(\n",
    "            nn.Linear(gru_hidden_size, linear_size),\n",
    "            nn.ReLU())\n",
    "        self.out        = nn.Sequential(\n",
    "            nn.Linear(linear_size, 2),\n",
    "            nn.Softmax())\n",
    "\n",
    "    def forward(self, x):\n",
    "        x = self.embedding(x)\n",
    "        gru_out, gru_hidden = self.gru(x)\n",
    "        x = torch.mean(gru_hidden, 0)\n",
    "        x = self.dense(x)\n",
    "        x = self.out(x) # .flatten()\n",
    "        return x\n",
    "\n",
    "model = BidirLSTM().to(device)\n",
    "# summary(model, input_size=(batch_size,))"
   ]
  },
  {
   "cell_type": "code",
   "execution_count": 10,
   "metadata": {},
   "outputs": [],
   "source": [
    "for x in trn_dataloader:\n",
    "    datum = x\n",
    "    break"
   ]
  },
  {
   "cell_type": "code",
   "execution_count": 11,
   "metadata": {},
   "outputs": [],
   "source": [
    "test_x = F.to_tensor(datum['token_ids'], padding_value=padding_idx).to(device)"
   ]
  },
  {
   "attachments": {},
   "cell_type": "markdown",
   "metadata": {},
   "source": [
    "### \"Compiling\" the Model"
   ]
  },
  {
   "cell_type": "code",
   "execution_count": 12,
   "metadata": {},
   "outputs": [],
   "source": [
    "from torch.optim import AdamW\n",
    "# optimizer = Hagrad(model.parameters(), epsilon=1e-5, gamma=100., p_mean=0.)\n",
    "optimizer = torch.optim.Adam(model.parameters(), 1e-4)\n",
    "loss_fn = nn.CrossEntropyLoss()\n",
    "loss_fn = loss_fn.to(device)"
   ]
  },
  {
   "cell_type": "code",
   "execution_count": 13,
   "metadata": {},
   "outputs": [
    {
     "name": "stderr",
     "output_type": "stream",
     "text": [
      "g:\\miniconda3\\envs\\torch-gpu\\lib\\site-packages\\torch\\nn\\modules\\container.py:204: UserWarning: Implicit dimension choice for softmax has been deprecated. Change the call to include dim=X as an argument.\n",
      "  input = module(input)\n"
     ]
    }
   ],
   "source": [
    "pred = model(test_x)\n",
    "target = torch.tensor(datum['target'], dtype=torch.float32).to(device)"
   ]
  },
  {
   "cell_type": "code",
   "execution_count": 17,
   "metadata": {},
   "outputs": [
    {
     "data": {
      "text/plain": [
       "tensor([[0.5264, 0.4736],\n",
       "        [0.5321, 0.4679],\n",
       "        [0.5154, 0.4846],\n",
       "        [0.5271, 0.4729],\n",
       "        [0.5541, 0.4459],\n",
       "        [0.5371, 0.4629],\n",
       "        [0.5362, 0.4638],\n",
       "        [0.5259, 0.4741],\n",
       "        [0.5210, 0.4790],\n",
       "        [0.5306, 0.4694],\n",
       "        [0.5236, 0.4764],\n",
       "        [0.5363, 0.4637],\n",
       "        [0.5252, 0.4748],\n",
       "        [0.5277, 0.4723],\n",
       "        [0.5318, 0.4682],\n",
       "        [0.5286, 0.4714],\n",
       "        [0.5230, 0.4770],\n",
       "        [0.5352, 0.4648],\n",
       "        [0.5535, 0.4465],\n",
       "        [0.5315, 0.4685],\n",
       "        [0.5312, 0.4688],\n",
       "        [0.5326, 0.4674],\n",
       "        [0.5253, 0.4747],\n",
       "        [0.5300, 0.4700],\n",
       "        [0.5384, 0.4616],\n",
       "        [0.5472, 0.4528],\n",
       "        [0.5295, 0.4705],\n",
       "        [0.5268, 0.4732],\n",
       "        [0.5296, 0.4704],\n",
       "        [0.5350, 0.4650],\n",
       "        [0.5173, 0.4827],\n",
       "        [0.5515, 0.4485],\n",
       "        [0.5334, 0.4666],\n",
       "        [0.5310, 0.4690],\n",
       "        [0.5311, 0.4689],\n",
       "        [0.5226, 0.4774],\n",
       "        [0.5222, 0.4778],\n",
       "        [0.5300, 0.4700],\n",
       "        [0.5386, 0.4614],\n",
       "        [0.5154, 0.4846],\n",
       "        [0.5305, 0.4695],\n",
       "        [0.5300, 0.4700],\n",
       "        [0.5415, 0.4585],\n",
       "        [0.5349, 0.4651],\n",
       "        [0.5336, 0.4664],\n",
       "        [0.5316, 0.4684],\n",
       "        [0.5336, 0.4664],\n",
       "        [0.5325, 0.4675],\n",
       "        [0.5347, 0.4653],\n",
       "        [0.5289, 0.4711],\n",
       "        [0.5176, 0.4824],\n",
       "        [0.5243, 0.4757],\n",
       "        [0.5316, 0.4684],\n",
       "        [0.5323, 0.4677],\n",
       "        [0.5384, 0.4616],\n",
       "        [0.5309, 0.4691],\n",
       "        [0.5324, 0.4676],\n",
       "        [0.5321, 0.4679],\n",
       "        [0.5500, 0.4500],\n",
       "        [0.5306, 0.4694],\n",
       "        [0.5433, 0.4567],\n",
       "        [0.5366, 0.4634],\n",
       "        [0.5246, 0.4754],\n",
       "        [0.5363, 0.4637]], device='cuda:0', grad_fn=<SoftmaxBackward0>)"
      ]
     },
     "execution_count": 17,
     "metadata": {},
     "output_type": "execute_result"
    }
   ],
   "source": [
    "pred"
   ]
  },
  {
   "cell_type": "code",
   "execution_count": 14,
   "metadata": {},
   "outputs": [
    {
     "ename": "RuntimeError",
     "evalue": "\"nll_loss_forward_reduce_cuda_kernel_2d_index\" not implemented for 'Float'",
     "output_type": "error",
     "traceback": [
      "\u001b[1;31m---------------------------------------------------------------------------\u001b[0m",
      "\u001b[1;31mRuntimeError\u001b[0m                              Traceback (most recent call last)",
      "Cell \u001b[1;32mIn[14], line 1\u001b[0m\n\u001b[1;32m----> 1\u001b[0m loss_fn(pred, target)\n",
      "File \u001b[1;32mg:\\miniconda3\\envs\\torch-gpu\\lib\\site-packages\\torch\\nn\\modules\\module.py:1194\u001b[0m, in \u001b[0;36mModule._call_impl\u001b[1;34m(self, *input, **kwargs)\u001b[0m\n\u001b[0;32m   1190\u001b[0m \u001b[39m# If we don't have any hooks, we want to skip the rest of the logic in\u001b[39;00m\n\u001b[0;32m   1191\u001b[0m \u001b[39m# this function, and just call forward.\u001b[39;00m\n\u001b[0;32m   1192\u001b[0m \u001b[39mif\u001b[39;00m \u001b[39mnot\u001b[39;00m (\u001b[39mself\u001b[39m\u001b[39m.\u001b[39m_backward_hooks \u001b[39mor\u001b[39;00m \u001b[39mself\u001b[39m\u001b[39m.\u001b[39m_forward_hooks \u001b[39mor\u001b[39;00m \u001b[39mself\u001b[39m\u001b[39m.\u001b[39m_forward_pre_hooks \u001b[39mor\u001b[39;00m _global_backward_hooks\n\u001b[0;32m   1193\u001b[0m         \u001b[39mor\u001b[39;00m _global_forward_hooks \u001b[39mor\u001b[39;00m _global_forward_pre_hooks):\n\u001b[1;32m-> 1194\u001b[0m     \u001b[39mreturn\u001b[39;00m forward_call(\u001b[39m*\u001b[39m\u001b[39minput\u001b[39m, \u001b[39m*\u001b[39m\u001b[39m*\u001b[39mkwargs)\n\u001b[0;32m   1195\u001b[0m \u001b[39m# Do not call functions when jit is used\u001b[39;00m\n\u001b[0;32m   1196\u001b[0m full_backward_hooks, non_full_backward_hooks \u001b[39m=\u001b[39m [], []\n",
      "File \u001b[1;32mg:\\miniconda3\\envs\\torch-gpu\\lib\\site-packages\\torch\\nn\\modules\\loss.py:1174\u001b[0m, in \u001b[0;36mCrossEntropyLoss.forward\u001b[1;34m(self, input, target)\u001b[0m\n\u001b[0;32m   1173\u001b[0m \u001b[39mdef\u001b[39;00m \u001b[39mforward\u001b[39m(\u001b[39mself\u001b[39m, \u001b[39minput\u001b[39m: Tensor, target: Tensor) \u001b[39m-\u001b[39m\u001b[39m>\u001b[39m Tensor:\n\u001b[1;32m-> 1174\u001b[0m     \u001b[39mreturn\u001b[39;00m F\u001b[39m.\u001b[39;49mcross_entropy(\u001b[39minput\u001b[39;49m, target, weight\u001b[39m=\u001b[39;49m\u001b[39mself\u001b[39;49m\u001b[39m.\u001b[39;49mweight,\n\u001b[0;32m   1175\u001b[0m                            ignore_index\u001b[39m=\u001b[39;49m\u001b[39mself\u001b[39;49m\u001b[39m.\u001b[39;49mignore_index, reduction\u001b[39m=\u001b[39;49m\u001b[39mself\u001b[39;49m\u001b[39m.\u001b[39;49mreduction,\n\u001b[0;32m   1176\u001b[0m                            label_smoothing\u001b[39m=\u001b[39;49m\u001b[39mself\u001b[39;49m\u001b[39m.\u001b[39;49mlabel_smoothing)\n",
      "File \u001b[1;32mg:\\miniconda3\\envs\\torch-gpu\\lib\\site-packages\\torch\\nn\\functional.py:3026\u001b[0m, in \u001b[0;36mcross_entropy\u001b[1;34m(input, target, weight, size_average, ignore_index, reduce, reduction, label_smoothing)\u001b[0m\n\u001b[0;32m   3024\u001b[0m \u001b[39mif\u001b[39;00m size_average \u001b[39mis\u001b[39;00m \u001b[39mnot\u001b[39;00m \u001b[39mNone\u001b[39;00m \u001b[39mor\u001b[39;00m reduce \u001b[39mis\u001b[39;00m \u001b[39mnot\u001b[39;00m \u001b[39mNone\u001b[39;00m:\n\u001b[0;32m   3025\u001b[0m     reduction \u001b[39m=\u001b[39m _Reduction\u001b[39m.\u001b[39mlegacy_get_string(size_average, reduce)\n\u001b[1;32m-> 3026\u001b[0m \u001b[39mreturn\u001b[39;00m torch\u001b[39m.\u001b[39;49m_C\u001b[39m.\u001b[39;49m_nn\u001b[39m.\u001b[39;49mcross_entropy_loss(\u001b[39minput\u001b[39;49m, target, weight, _Reduction\u001b[39m.\u001b[39;49mget_enum(reduction), ignore_index, label_smoothing)\n",
      "\u001b[1;31mRuntimeError\u001b[0m: \"nll_loss_forward_reduce_cuda_kernel_2d_index\" not implemented for 'Float'"
     ]
    }
   ],
   "source": [
    "loss_fn(pred, target)"
   ]
  },
  {
   "attachments": {},
   "cell_type": "markdown",
   "metadata": {},
   "source": [
    "### Acutal Training:"
   ]
  },
  {
   "cell_type": "code",
   "execution_count": null,
   "metadata": {},
   "outputs": [
    {
     "data": {
      "text/plain": [
       "tensor([1.9495, 1.8692, 2.0262, 2.0337, 1.9326, 1.7727, 2.0140, 2.1250, 2.1262,\n",
       "        1.7694, 2.1345, 1.9639, 1.8455, 1.8930, 1.6151, 1.9681, 1.8317, 2.2569,\n",
       "        2.0767, 1.8257], device='cuda:0', grad_fn=<ReshapeAliasBackward0>)"
      ]
     },
     "execution_count": 65,
     "metadata": {},
     "output_type": "execute_result"
    }
   ],
   "source": [
    "model(input)"
   ]
  },
  {
   "cell_type": "code",
   "execution_count": null,
   "metadata": {},
   "outputs": [],
   "source": [
    "def train(input, target, return_loss=True):\n",
    "    output = model(input)\n",
    "    loss = loss_fn(output, target)\n",
    "    optimizer.zero_grad()\n",
    "    loss.backward()\n",
    "    optimizer.step()\n",
    "    if return_loss:\n",
    "        return loss.detach().cpu().numpy()\n",
    "\n",
    "\n",
    "def eval_step(input, target):\n",
    "    output = model(input)\n",
    "    loss = loss_fn(output, target).item()\n",
    "    return float(loss), (output.argmax(1) == target).type(torch.float).sum().item()\n",
    "\n",
    "\n",
    "def evaluate():\n",
    "    model.eval()\n",
    "    total_loss = 0\n",
    "    correct_predictions = 0\n",
    "    total_predictions = 0\n",
    "    counter = 0\n",
    "    with torch.no_grad():\n",
    "        for batch in tst_dataloader:\n",
    "            input = (F.to_tensor(batch[\"token_ids\"], padding_value=padding_idx)\n",
    "                      .to(device))\n",
    "            target = torch.tensor(batch[\"target\"], dtype=torch.float32).to(device)\n",
    "            loss, predictions = eval_step(input, target)\n",
    "            total_loss += loss\n",
    "            correct_predictions += predictions\n",
    "            total_predictions += len(target)\n",
    "            counter += 1\n",
    "\n",
    "    return total_loss / counter, correct_predictions / total_predictions"
   ]
  },
  {
   "cell_type": "code",
   "execution_count": null,
   "metadata": {},
   "outputs": [
    {
     "name": "stdout",
     "output_type": "stream",
     "text": [
      "Batch = [195], loss = [0.14]\r"
     ]
    },
    {
     "ename": "IndexError",
     "evalue": "Dimension out of range (expected to be in range of [-1, 0], but got 1)",
     "output_type": "error",
     "traceback": [
      "\u001b[1;31m---------------------------------------------------------------------------\u001b[0m",
      "\u001b[1;31mIndexError\u001b[0m                                Traceback (most recent call last)",
      "Cell \u001b[1;32mIn[64], line 15\u001b[0m\n\u001b[0;32m     12\u001b[0m     loss_history\u001b[39m.\u001b[39mappend(train(\u001b[39minput\u001b[39m, target))\n\u001b[0;32m     13\u001b[0m     \u001b[39mprint\u001b[39m(\u001b[39mf\u001b[39m\u001b[39m\"\u001b[39m\u001b[39mBatch = [\u001b[39m\u001b[39m{\u001b[39;00mi\u001b[39m}\u001b[39;00m\u001b[39m], loss = [\u001b[39m\u001b[39m{\u001b[39;00mloss_history[\u001b[39m-\u001b[39m\u001b[39m1\u001b[39m]\u001b[39m:\u001b[39;00m\u001b[39m.2f\u001b[39m\u001b[39m}\u001b[39;00m\u001b[39m]\u001b[39m\u001b[39m\"\u001b[39m, end\u001b[39m=\u001b[39m\u001b[39m\"\u001b[39m\u001b[39m\\r\u001b[39;00m\u001b[39m\"\u001b[39m)\n\u001b[1;32m---> 15\u001b[0m loss, accuracy \u001b[39m=\u001b[39m evaluate()\n\u001b[0;32m     16\u001b[0m \u001b[39mprint\u001b[39m(\u001b[39mf\u001b[39m\u001b[39m\"\u001b[39m\u001b[39mEpoch = [\u001b[39m\u001b[39m{\u001b[39;00me\u001b[39m}\u001b[39;00m\u001b[39m], loss = [\u001b[39m\u001b[39m{\u001b[39;00mloss\u001b[39m}\u001b[39;00m\u001b[39m], accuracy = [\u001b[39m\u001b[39m{\u001b[39;00maccuracy\u001b[39m}\u001b[39;00m\u001b[39m]\u001b[39m\u001b[39m\"\u001b[39m)\n\u001b[0;32m     17\u001b[0m val_loss_history\u001b[39m.\u001b[39mappend(loss)\n",
      "Cell \u001b[1;32mIn[63], line 28\u001b[0m, in \u001b[0;36mevaluate\u001b[1;34m()\u001b[0m\n\u001b[0;32m     25\u001b[0m \u001b[39minput\u001b[39m \u001b[39m=\u001b[39m (F\u001b[39m.\u001b[39mto_tensor(batch[\u001b[39m\"\u001b[39m\u001b[39mtoken_ids\u001b[39m\u001b[39m\"\u001b[39m], padding_value\u001b[39m=\u001b[39mpadding_idx)\n\u001b[0;32m     26\u001b[0m           \u001b[39m.\u001b[39mto(device))\n\u001b[0;32m     27\u001b[0m target \u001b[39m=\u001b[39m torch\u001b[39m.\u001b[39mtensor(batch[\u001b[39m\"\u001b[39m\u001b[39mtarget\u001b[39m\u001b[39m\"\u001b[39m], dtype\u001b[39m=\u001b[39mtorch\u001b[39m.\u001b[39mfloat32)\u001b[39m.\u001b[39mto(device)\n\u001b[1;32m---> 28\u001b[0m loss, predictions \u001b[39m=\u001b[39m eval_step(\u001b[39minput\u001b[39;49m, target)\n\u001b[0;32m     29\u001b[0m total_loss \u001b[39m+\u001b[39m\u001b[39m=\u001b[39m loss\n\u001b[0;32m     30\u001b[0m correct_predictions \u001b[39m+\u001b[39m\u001b[39m=\u001b[39m predictions\n",
      "Cell \u001b[1;32mIn[63], line 14\u001b[0m, in \u001b[0;36meval_step\u001b[1;34m(input, target)\u001b[0m\n\u001b[0;32m     12\u001b[0m output \u001b[39m=\u001b[39m model(\u001b[39minput\u001b[39m)\n\u001b[0;32m     13\u001b[0m loss \u001b[39m=\u001b[39m loss_fn(output, target)\u001b[39m.\u001b[39mitem()\n\u001b[1;32m---> 14\u001b[0m \u001b[39mreturn\u001b[39;00m \u001b[39mfloat\u001b[39m(loss), (output\u001b[39m.\u001b[39;49margmax(\u001b[39m1\u001b[39;49m) \u001b[39m==\u001b[39m target)\u001b[39m.\u001b[39mtype(torch\u001b[39m.\u001b[39mfloat)\u001b[39m.\u001b[39msum()\u001b[39m.\u001b[39mitem()\n",
      "\u001b[1;31mIndexError\u001b[0m: Dimension out of range (expected to be in range of [-1, 0], but got 1)"
     ]
    }
   ],
   "source": [
    "epochs = 1\n",
    "loss_history = []\n",
    "val_loss_history = []\n",
    "\n",
    "num_epochs = 1\n",
    "\n",
    "for e in range(num_epochs):\n",
    "    for i, batch in enumerate(trn_dataloader):\n",
    "        input = (F.to_tensor(batch[\"token_ids\"], padding_value=padding_idx)\n",
    "                  .to(device))\n",
    "        target = torch.tensor(batch[\"target\"], dtype=torch.float32).to(device)\n",
    "        loss_history.append(train(input, target))\n",
    "        print(f\"Batch = [{i}], loss = [{loss_history[-1]:.2f}]\", end=\"\\r\")\n",
    "\n",
    "    loss, accuracy = evaluate()\n",
    "    print(f\"Epoch = [{e}], loss = [{loss}], accuracy = [{accuracy}]\")\n",
    "    val_loss_history.append(loss)"
   ]
  },
  {
   "cell_type": "code",
   "execution_count": null,
   "metadata": {},
   "outputs": [
    {
     "data": {
      "image/png": "[encoded data removed]",
      "text/plain": [
       "<Figure size 800x500 with 1 Axes>"
      ]
     },
     "metadata": {},
     "output_type": "display_data"
    }
   ],
   "source": [
    "fig = plt.figure(figsize=(8, 5))\n",
    "plt.plot(loss_history, \"-r\", label=\"Train Loss\")\n",
    "plt.legend()\n",
    "plt.xlabel(\"Epochs\")\n",
    "plt.ylabel(\"Loss\")\n",
    "plt.grid()\n",
    "plt.title(\"Training a Model with HaGraD\")\n",
    "plt.show()"
   ]
  }
 ],
 "metadata": {
  "kernelspec": {
   "display_name": "torch-gpu",
   "language": "python",
   "name": "python3"
  },
  "language_info": {
   "codemirror_mode": {
    "name": "ipython",
    "version": 3
   },
   "file_extension": ".py",
   "mimetype": "text/x-python",
   "name": "python",
   "nbconvert_exporter": "python",
   "pygments_lexer": "ipython3",
   "version": "3.10.8"
  },
  "orig_nbformat": 4,
  "vscode": {
   "interpreter": {
    "hash": "9fc97c3157c99f5d3fc96d8b480d4a93a50c5cc6d2c9471e9c6f0d0df95dfa87"
   }
  }
 },
 "nbformat": 4,
 "nbformat_minor": 2
}
