{
 "cells": [
  {
   "attachments": {},
   "cell_type": "markdown",
   "metadata": {},
   "source": [
    "# Fashion MNist with HaGraD, backed by  <img src=\"https://upload.wikimedia.org/wikipedia/commons/1/10/PyTorch_logo_icon.svg\" style=\"height:0.75em\"/>PyTorch\n",
    "\n",
    "---\n",
    "\n",
    "Notebook follows the [Quickstart](https://pytorch.org/tutorials/beginner/basics/quickstart_tutorial.html) Notebook."
   ]
  },
  {
   "attachments": {},
   "cell_type": "markdown",
   "metadata": {},
   "source": [
    "### Setup"
   ]
  },
  {
   "cell_type": "code",
   "execution_count": 21,
   "metadata": {},
   "outputs": [],
   "source": [
    "import torch\n",
    "from torch import nn\n",
    "from torch.utils.data import DataLoader\n",
    "import matplotlib.pyplot as plt\n",
    "from torchvision import datasets\n",
    "from torchvision.transforms import ToTensor\n",
    "\n",
    "import sys\n",
    "if \"..\\\\\" not in sys.path: sys.path.append(\"..\\\\\")\n",
    "from src.torch_hagrad import Hagrad"
   ]
  },
  {
   "attachments": {},
   "cell_type": "markdown",
   "metadata": {},
   "source": [
    "### Download Data"
   ]
  },
  {
   "cell_type": "code",
   "execution_count": 22,
   "metadata": {},
   "outputs": [],
   "source": [
    "# Download training data from open datasets.\n",
    "training_data = datasets.FashionMNIST(\n",
    "    root=\"data\",\n",
    "    train=True,\n",
    "    download=True,\n",
    "    transform=ToTensor(),\n",
    ")\n",
    "\n",
    "# Download test data from open datasets.\n",
    "test_data = datasets.FashionMNIST(\n",
    "    root=\"data\",\n",
    "    train=False,\n",
    "    download=True,\n",
    "    transform=ToTensor(),\n",
    ")\n",
    "\n",
    "input_shape = tuple([1] + list(training_data.data.shape[1:]))"
   ]
  },
  {
   "attachments": {},
   "cell_type": "markdown",
   "metadata": {},
   "source": [
    "### Construct <span style=\"color:#4bc9b0;font-family:'CaskaydiaCove NF', 'Cascadia Code', Consolas, monospace\">DataLoaders</span>"
   ]
  },
  {
   "cell_type": "code",
   "execution_count": 23,
   "metadata": {},
   "outputs": [
    {
     "name": "stdout",
     "output_type": "stream",
     "text": [
      "Shape of X [N, C, H, W]: torch.Size([128, 1, 28, 28])\n",
      "Shape of y: torch.Size([128]) torch.int64\n"
     ]
    }
   ],
   "source": [
    "batch_size = 128\n",
    "\n",
    "train_dataloader = DataLoader(training_data, batch_size=batch_size)\n",
    "test_dataloader = DataLoader(test_data, batch_size=batch_size)\n",
    "## Printing Tensors from DataLoaders:\n",
    "# >> list(test_dataloader)[:10]\n",
    "\n",
    "for X, y in test_dataloader:\n",
    "    print(f\"Shape of X [N, C, H, W]: {X.shape}\")\n",
    "    print(f\"Shape of y: {y.shape} {y.dtype}\")\n",
    "    break"
   ]
  },
  {
   "attachments": {},
   "cell_type": "markdown",
   "metadata": {},
   "source": [
    "### Define <span style=\"color:#4bc9b0;font-family:'CaskaydiaCove NF', 'Cascadia Code', Consolas, monospace\">nn.Module</span>"
   ]
  },
  {
   "cell_type": "code",
   "execution_count": 24,
   "metadata": {},
   "outputs": [
    {
     "name": "stdout",
     "output_type": "stream",
     "text": [
      "Using cuda device.\n"
     ]
    }
   ],
   "source": [
    "# Get cpu or gpu device for training.\n",
    "device = \"cuda\" if torch.cuda.is_available() else \"mps\" if torch.backends.mps.is_available() else \"cpu\"\n",
    "print(f\"Using {device} device.\")"
   ]
  },
  {
   "cell_type": "code",
   "execution_count": 25,
   "metadata": {},
   "outputs": [],
   "source": [
    "# Define model\n",
    "class DenseNN(nn.Module):\n",
    "    def __init__(self):\n",
    "        super().__init__()\n",
    "        self.flatten = nn.Flatten()\n",
    "        self.linear_relu_stack = nn.Sequential(\n",
    "            nn.Linear(28*28, 512),\n",
    "            nn.ReLU(),\n",
    "            nn.Linear(512, 512),\n",
    "            nn.ReLU(),\n",
    "            nn.Linear(512, 10))\n",
    "\n",
    "    def forward(self, x):\n",
    "        x = self.flatten(x)\n",
    "        logits = self.linear_relu_stack(x)\n",
    "        return logits\n",
    "\n",
    "model = DenseNN().to(device)"
   ]
  },
  {
   "attachments": {},
   "cell_type": "markdown",
   "metadata": {},
   "source": [
    "### \"Compiling\" the Model"
   ]
  },
  {
   "cell_type": "code",
   "execution_count": 26,
   "metadata": {},
   "outputs": [],
   "source": [
    "loss_fn = nn.CrossEntropyLoss()\n",
    "optimizer = Hagrad(model.parameters(), epsilon=1., gamma=10., p_mean=0.)"
   ]
  },
  {
   "attachments": {},
   "cell_type": "markdown",
   "metadata": {},
   "source": [
    "### Acutal Training:"
   ]
  },
  {
   "cell_type": "code",
   "execution_count": 27,
   "metadata": {},
   "outputs": [],
   "source": [
    "def train(dataloader, model, loss_fn, optimizer, return_loss=True):\n",
    "    size = len(dataloader.dataset)\n",
    "    num_batches = len(dataloader)\n",
    "    model.train()\n",
    "    if return_loss: train_loss = 0\n",
    "\n",
    "    for batch, (X, y) in enumerate(dataloader):\n",
    "        X, y = X.to(device), y.to(device)\n",
    "\n",
    "        ## Compute prediction error\n",
    "        pred = model(X)\n",
    "        loss = loss_fn(pred, y)\n",
    "\n",
    "        ## Backpropagation\n",
    "        optimizer.zero_grad()   ## *Gradients by default add up; to prevent double-counting, we explicitly zero them at each iteration.*\n",
    "        loss.backward()         ## *PyTorch deposits the gradients of the loss w.r.t. each parameter.*\n",
    "        optimizer.step()        ## *to adjust the parameters by the gradients collected in the backward pass.*\n",
    "\n",
    "        ## History:\n",
    "        if return_loss:\n",
    "            train_loss += loss.item()\n",
    "\n",
    "        if batch % 100 == 0:\n",
    "            ## .item() when on cuda converts to python float\n",
    "            loss, current = loss.item(), batch* len(X) \n",
    "            print(f\"Train: loss: {loss:>7f}  [{current:>5d}/{size:>5d}]\", end=\"\\r\")\n",
    "\n",
    "    if return_loss:\n",
    "        return train_loss / num_batches"
   ]
  },
  {
   "cell_type": "code",
   "execution_count": 28,
   "metadata": {},
   "outputs": [],
   "source": [
    "def test(dataloader, model, loss_fn, return_loss=True):\n",
    "    size = len(dataloader.dataset)\n",
    "    num_batches = len(dataloader)\n",
    "    model.eval()\n",
    "    test_loss, correct = 0, 0\n",
    "\n",
    "    with torch.no_grad():\n",
    "        for X, y in dataloader:\n",
    "            X, y = X.to(device), y.to(device)\n",
    "            pred = model(X)\n",
    "            test_loss += loss_fn(pred, y).item()\n",
    "            correct += (pred.argmax(1) == y).type(torch.float).sum().item()\n",
    "\n",
    "    test_loss /= num_batches\n",
    "    correct /= size\n",
    "    print(f\"\\nTest: Accuracy: {(100*correct):>0.1f}%, loss: {test_loss:>8f}\")\n",
    "\n",
    "    if return_loss:\n",
    "        return test_loss"
   ]
  },
  {
   "cell_type": "code",
   "execution_count": 29,
   "metadata": {},
   "outputs": [
    {
     "name": "stdout",
     "output_type": "stream",
     "text": [
      "Epoch 1\n",
      "-------------------------------\n",
      "Train: loss: 0.634538  [51200/60000]\n",
      "Test: Accuracy: 81.8%, loss: 0.513306\n",
      "Epoch 2\n",
      "-------------------------------\n",
      "Train: loss: 0.545104  [51200/60000]\n",
      "Test: Accuracy: 83.5%, loss: 0.456655\n",
      "Epoch 3\n",
      "-------------------------------\n",
      "Train: loss: 0.478250  [51200/60000]\n",
      "Test: Accuracy: 84.7%, loss: 0.425113\n",
      "Epoch 4\n",
      "-------------------------------\n",
      "Train: loss: 0.430938  [51200/60000]\n",
      "Test: Accuracy: 85.5%, loss: 0.403316\n",
      "Epoch 5\n",
      "-------------------------------\n",
      "Train: loss: 0.398441  [51200/60000]\n",
      "Test: Accuracy: 86.1%, loss: 0.387009\n",
      "Epoch 6\n",
      "-------------------------------\n",
      "Train: loss: 0.371325  [51200/60000]\n",
      "Test: Accuracy: 86.4%, loss: 0.375093\n",
      "Epoch 7\n",
      "-------------------------------\n",
      "Train: loss: 0.360976  [51200/60000]\n",
      "Test: Accuracy: 86.6%, loss: 0.365130\n",
      "Epoch 8\n",
      "-------------------------------\n",
      "Train: loss: 0.340629  [51200/60000]\n",
      "Test: Accuracy: 86.9%, loss: 0.358581\n",
      "Epoch 9\n",
      "-------------------------------\n",
      "Train: loss: 0.324335  [51200/60000]\n",
      "Test: Accuracy: 87.1%, loss: 0.352191\n",
      "Epoch 10\n",
      "-------------------------------\n",
      "Train: loss: 0.308573  [51200/60000]\n",
      "Test: Accuracy: 87.4%, loss: 0.346426\n"
     ]
    }
   ],
   "source": [
    "epochs = 10\n",
    "loss_history = []\n",
    "val_loss_history = []\n",
    "for t in range(epochs):\n",
    "    print(f\"Epoch {t+1}\\n-------------------------------\")\n",
    "    loss_history.append(train(train_dataloader, model, loss_fn, optimizer))\n",
    "    val_loss_history.append(test(test_dataloader, model, loss_fn))"
   ]
  },
  {
   "cell_type": "code",
   "execution_count": 30,
   "metadata": {},
   "outputs": [
    {
     "data": {
      "image/png": "[encoded data removed]",
      "text/plain": [
       "<Figure size 1200x600 with 1 Axes>"
      ]
     },
     "metadata": {},
     "output_type": "display_data"
    }
   ],
   "source": [
    "fig, ax = plt.subplots(figsize=(12, 6))\n",
    "ax.set_title(\"Comparison of HaGraD with commonly used Optimizers\", fontsize=16)\n",
    "ax.plot(loss_history,     \"-r\", label=\"Train. Loss\")\n",
    "ax.plot(val_loss_history, \"--r\", label=  \"Val. Loss\")\n",
    "ax.set_xlabel(\"Epochs\")\n",
    "ax.set_ylabel(\"Loss - CategoricalCrossentropy\")\n",
    "leg = ax.legend(frameon=True, fontsize=12)\n",
    "plt.show()\n",
    "plt.close()"
   ]
  }
 ],
 "metadata": {
  "kernelspec": {
   "display_name": "torch-gpu",
   "language": "python",
   "name": "python3"
  },
  "language_info": {
   "codemirror_mode": {
    "name": "ipython",
    "version": 3
   },
   "file_extension": ".py",
   "mimetype": "text/x-python",
   "name": "python",
   "nbconvert_exporter": "python",
   "pygments_lexer": "ipython3",
   "version": "3.10.8 | packaged by conda-forge | (main, Nov 22 2022, 08:16:33) [MSC v.1929 64 bit (AMD64)]"
  },
  "orig_nbformat": 4,
  "vscode": {
   "interpreter": {
    "hash": "9fc97c3157c99f5d3fc96d8b480d4a93a50c5cc6d2c9471e9c6f0d0df95dfa87"
   }
  }
 },
 "nbformat": 4,
 "nbformat_minor": 2
}
