{
 "cells": [
  {
   "attachments": {},
   "cell_type": "markdown",
   "metadata": {},
   "source": [
    "# Hamiltonian Descent for  <img src=\"https://upload.wikimedia.org/wikipedia/commons/1/10/PyTorch_logo_icon.svg\" style=\"height:0.75em\"/>PyTorch\n",
    "\n",
    "---"
   ]
  },
  {
   "attachments": {},
   "cell_type": "markdown",
   "metadata": {},
   "source": [
    "## Setup"
   ]
  },
  {
   "cell_type": "code",
   "execution_count": 450,
   "metadata": {},
   "outputs": [],
   "source": [
    "import torch\n",
    "from torch import nn\n",
    "import numpy as np\n",
    "import matplotlib.pyplot as plt\n",
    "from typing import Callable"
   ]
  },
  {
   "cell_type": "code",
   "execution_count": 451,
   "metadata": {},
   "outputs": [],
   "source": [
    "def V(x: torch.tensor):\n",
    "    return 2. * torch.linalg.norm(x)**2\n",
    "\n",
    "def minimize(\n",
    "    V: Callable, \n",
    "    x: torch.tensor, \n",
    "    optimizer: torch.optim.Optimizer, \n",
    "    iters: int=100):\n",
    "\n",
    "    V_hist = []\n",
    "    x_hist = []\n",
    "\n",
    "    for _ in range(iters):\n",
    "        V_x = V(x)\n",
    "        V_hist.append(V_x.detach())\n",
    "        x_hist.append(x.detach())\n",
    "        optimizer.zero_grad()\n",
    "        V_x.backward()\n",
    "        optimizer.step()\n",
    "        \n",
    "    return V_hist, x_hist"
   ]
  },
  {
   "attachments": {},
   "cell_type": "markdown",
   "metadata": {},
   "source": [
    "## Basic Optimizer Usage\n",
    "\n",
    "---"
   ]
  },
  {
   "attachments": {},
   "cell_type": "markdown",
   "metadata": {},
   "source": [
    "We use the function \n",
    "$$\n",
    "    f: \\mathbb R^F \\to \\mathbb R , \\ \\ x\\mapsto 2\\cdot \\vert \\vert x \\vert \\vert^2\\, ,\n",
    "$$\n",
    "with gradient:\n",
    "$$\n",
    "    \\nabla_x f(x) = 4x\n",
    "$$"
   ]
  },
  {
   "attachments": {},
   "cell_type": "markdown",
   "metadata": {},
   "source": [
    "### Getting Gradients"
   ]
  },
  {
   "cell_type": "code",
   "execution_count": 452,
   "metadata": {},
   "outputs": [
    {
     "name": "stdout",
     "output_type": "stream",
     "text": [
      "tensor([4.0000, 4.0000, 4.0000])\n"
     ]
    }
   ],
   "source": [
    "x = torch.ones(3, requires_grad=True)\n",
    "V_x = V(x)\n",
    "V_x.backward()\n",
    "print(x.grad)"
   ]
  },
  {
   "attachments": {},
   "cell_type": "markdown",
   "metadata": {},
   "source": [
    "### Using Gradient Descent"
   ]
  },
  {
   "attachments": {},
   "cell_type": "markdown",
   "metadata": {},
   "source": [
    "We expect $x$ to be optimized by \n",
    "$$\n",
    "    x\\leftarrow x - 0.01\\cdot \\nabla_x f(x) = (1,\\ 1,\\ 1) - 0.01 \\cdot (4,\\ 4,\\ 4) = (0.96,\\ 0.96,\\ 0.96)\\, .\n",
    "$$"
   ]
  },
  {
   "cell_type": "code",
   "execution_count": 453,
   "metadata": {},
   "outputs": [
    {
     "name": "stdout",
     "output_type": "stream",
     "text": [
      "tensor([0.9600, 0.9600, 0.9600], requires_grad=True)\n"
     ]
    }
   ],
   "source": [
    "x = torch.ones(3, requires_grad=True)\n",
    "V_x = V(x)\n",
    "\n",
    "optimizer = torch.optim.SGD([x], 0.01)\n",
    "optimizer.zero_grad()\n",
    "V_x.backward()\n",
    "optimizer.step()\n",
    "print(x)"
   ]
  },
  {
   "cell_type": "code",
   "execution_count": 454,
   "metadata": {},
   "outputs": [],
   "source": [
    "x = torch.ones(3, requires_grad=True)\n",
    "optimizer = torch.optim.SGD([x], 0.01)\n",
    "V_hist, x_hist = minimize(V, x, optimizer)"
   ]
  },
  {
   "cell_type": "code",
   "execution_count": 455,
   "metadata": {},
   "outputs": [
    {
     "data": {
      "image/png": "[encoded data removed]",
      "text/plain": [
       "<Figure size 500x200 with 1 Axes>"
      ]
     },
     "metadata": {},
     "output_type": "display_data"
    }
   ],
   "source": [
    "fig = plt.figure(figsize=(5, 2))\n",
    "plt.plot(V_hist)\n",
    "plt.show()"
   ]
  },
  {
   "attachments": {},
   "cell_type": "markdown",
   "metadata": {},
   "source": [
    "## Hamiltonian Descent\n",
    "\n",
    "---"
   ]
  },
  {
   "cell_type": "code",
   "execution_count": 456,
   "metadata": {},
   "outputs": [],
   "source": [
    "## Initializing Position\n",
    "x = torch.ones(3)\n",
    "x.requires_grad_(True)\n",
    "\n",
    "## Initializing Momentum Variables\n",
    "p = torch.normal(torch.zeros_like(x), torch.ones_like(x)).requires_grad_(True)"
   ]
  },
  {
   "cell_type": "code",
   "execution_count": 457,
   "metadata": {},
   "outputs": [],
   "source": [
    "## Kinetic Energy Gradient:\n",
    "def T(p: torch.tensor):\n",
    "    return torch.linalg.norm(p)**2 / 2."
   ]
  },
  {
   "cell_type": "code",
   "execution_count": 458,
   "metadata": {},
   "outputs": [],
   "source": [
    "def hamiltonian_descent(\n",
    "    V: Callable, \n",
    "    T: Callable,\n",
    "    x: torch.tensor, \n",
    "    p: torch.tensor,\n",
    "    eps: float=0.5,\n",
    "    gamma: float=10.,\n",
    "    iters: int=100):\n",
    "\n",
    "    delta = (1. + gamma*eps)**(-1.)\n",
    "    eps_delta = eps*delta\n",
    "\n",
    "    print(f\"delta: {delta}\")\n",
    "\n",
    "    V_hist = []\n",
    "    x_hist = []\n",
    "    x_grad_hist = []\n",
    "    # params = [x]\n",
    "    # momenta = [p]\n",
    "\n",
    "    for _ in range(iters):\n",
    "\n",
    "        V_x = V(x)\n",
    "        T_p = T(p)\n",
    "        T_p.backward()\n",
    "        V_x.backward()\n",
    "\n",
    "        x_grad = x.grad\n",
    "        p_grad = p.grad\n",
    "        p.data.mul_(delta).add_(-eps_delta*x_grad)\n",
    "        x.data.add_(eps*p_grad)\n",
    "\n",
    "        ## Standard gradient descent would be:\n",
    "        # x.data.add_(-1.*eps*x_grad)\n",
    "\n",
    "        V_hist.append(V_x.detach().clone().numpy())\n",
    "        x_hist.append(x.detach().clone().numpy())\n",
    "        x_grad_hist.append(x_grad.detach().clone().numpy())\n",
    "\n",
    "        x.grad.zero_()\n",
    "        p.grad.zero_()\n",
    "\n",
    "    return V_hist, x_hist, x_grad_hist"
   ]
  },
  {
   "cell_type": "code",
   "execution_count": 459,
   "metadata": {},
   "outputs": [
    {
     "name": "stdout",
     "output_type": "stream",
     "text": [
      "delta: 0.16666666666666666\n"
     ]
    }
   ],
   "source": [
    "V_hist, x_hist, x_grad_hist = hamiltonian_descent(V, T, x, p, iters=100)"
   ]
  },
  {
   "cell_type": "code",
   "execution_count": 460,
   "metadata": {},
   "outputs": [],
   "source": [
    "# np.all([np.allclose(4*x, g) for x, g in zip(x_hist[:-1], x_grad_hist[1:])])"
   ]
  },
  {
   "cell_type": "code",
   "execution_count": 461,
   "metadata": {},
   "outputs": [
    {
     "data": {
      "image/png": "[encoded data removed]",
      "text/plain": [
       "<Figure size 500x200 with 1 Axes>"
      ]
     },
     "metadata": {},
     "output_type": "display_data"
    }
   ],
   "source": [
    "fig = plt.figure(figsize=(5, 2))\n",
    "plt.plot(V_hist)\n",
    "plt.show()"
   ]
  }
 ],
 "metadata": {
  "kernelspec": {
   "display_name": "torch-gpu",
   "language": "python",
   "name": "python3"
  },
  "language_info": {
   "codemirror_mode": {
    "name": "ipython",
    "version": 3
   },
   "file_extension": ".py",
   "mimetype": "text/x-python",
   "name": "python",
   "nbconvert_exporter": "python",
   "pygments_lexer": "ipython3",
   "version": "3.10.8"
  },
  "orig_nbformat": 4,
  "vscode": {
   "interpreter": {
    "hash": "9fc97c3157c99f5d3fc96d8b480d4a93a50c5cc6d2c9471e9c6f0d0df95dfa87"
   }
  }
 },
 "nbformat": 4,
 "nbformat_minor": 2
}
