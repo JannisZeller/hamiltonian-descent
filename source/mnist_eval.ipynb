{
 "cells": [
  {
   "cell_type": "markdown",
   "metadata": {},
   "source": [
    "# Evaluation of the `Hagrad`-Optimizer with Mnist-Dataset\n",
    "\n",
    "\"Hagrad\" - **Ha**miltonian **Gr**adient **D**escent, based on Maddison, C. J., Paulin, D., Teh, Y. W., O'Donoghue, B., & Doucet, A. (2018). *Hamiltonia Descent Methods*. [arXiv:1809.05042 [math.OC]](arXiv:1809.05042).\n",
    "\n",
    "Implementation of custom `tf`/`tf.keras` optimizer inspired by [https://cloudxlab.com/blog/writing-custom-optimizer-in-tensorflow-and-keras/](https://cloudxlab.com/blog/writing-custom-optimizer-in-tensorflow-and-keras/)"
   ]
  },
  {
   "cell_type": "markdown",
   "metadata": {},
   "source": [
    "### Imports and Data"
   ]
  },
  {
   "cell_type": "code",
   "execution_count": 161,
   "metadata": {},
   "outputs": [],
   "source": [
    "## Tensorflow related\n",
    "import tensorflow as tf\n",
    "import tensorflow.keras as keras\n",
    "import tensorflow.keras.layers as layers\n",
    "\n",
    "## General\n",
    "import numpy as np\n",
    "import matplotlib.pyplot as plt\n",
    "from sklearn.model_selection import train_test_split\n",
    "\n",
    "## For dev (not having to restart kernel to apply changes in hagrad)\n",
    "from importlib import reload  # For de Python 3.4+\n",
    "import hagrad\n",
    "hagrad = reload(hagrad)\n",
    "\n",
    "## Hagrad custom optimizer\n",
    "from hagrad import Hagrad\n",
    "from hagrad import KineticEnergyGradients"
   ]
  },
  {
   "cell_type": "code",
   "execution_count": 162,
   "metadata": {},
   "outputs": [],
   "source": [
    "## Fetch Mnist-Dataset\n",
    "(X_train, y_train), (X_test, y_test) = keras.datasets.mnist.load_data()\n",
    "assert X_train.shape == (60000, 28, 28)\n",
    "assert X_test.shape  == (10000, 28, 28)\n",
    "assert y_train.shape == (60000,)\n",
    "assert y_test.shape  == (10000,)"
   ]
  },
  {
   "cell_type": "code",
   "execution_count": 163,
   "metadata": {},
   "outputs": [],
   "source": [
    "## Class number and sanity check\n",
    "num_classes = 10\n",
    "assert np.all(np.sort(np.unique(y_train)) == np.arange(num_classes))\n",
    "\n",
    "## Normalizing and expanding dimensions for ConvLayers\n",
    "def perpare_X_data(X: np.ndarray) -> np.ndarray:\n",
    "    X = X.astype(np.float32) / 255.\n",
    "    X = np.expand_dims(X, -1)\n",
    "    return(X)\n",
    "\n",
    "X_train = perpare_X_data(X_train)\n",
    "X_test  = perpare_X_data(X_test)\n",
    "\n",
    "## convert class vectors to binary class matrices\n",
    "y_train = keras.utils.to_categorical(y_train, num_classes)\n",
    "y_test  = keras.utils.to_categorical(y_test, num_classes)"
   ]
  },
  {
   "cell_type": "markdown",
   "metadata": {},
   "source": [
    "### Separation of a validation set\n",
    "\n",
    "Not nessecairy because we mainly care about the optimizer."
   ]
  },
  {
   "cell_type": "code",
   "execution_count": 164,
   "metadata": {},
   "outputs": [],
   "source": [
    "# X_train, X_valid, y_train, y_valid = train_test_split(X_train, y_train, random_state=42, test_size=0.1)\n",
    "X_valid, y_valid = X_test, y_test"
   ]
  },
  {
   "cell_type": "markdown",
   "metadata": {},
   "source": [
    "### Defining Model generating function\n",
    "\n",
    "Using the proposed convnet from the keras-people from https://keras.io/examples/vision/mnist_convnet/."
   ]
  },
  {
   "cell_type": "code",
   "execution_count": 165,
   "metadata": {},
   "outputs": [],
   "source": [
    "def generate_model(\n",
    "    input_shape: tuple,\n",
    "    num_classes: int,\n",
    "    opt: keras.optimizers.Optimizer,\n",
    "    PRINT_SUMMARY: bool=False\n",
    ") -> keras.Model:\n",
    "    model = keras.Sequential(\n",
    "        [\n",
    "            layers.Conv2D(32, kernel_size=(3, 3), activation=\"relu\", input_shape=input_shape),\n",
    "            layers.MaxPooling2D(pool_size=(2, 2)),\n",
    "            layers.Conv2D(64, kernel_size=(3, 3), activation=\"relu\"),\n",
    "            layers.MaxPooling2D(pool_size=(2, 2)),\n",
    "            layers.Flatten(),\n",
    "            layers.Dropout(0.5),\n",
    "            layers.Dense(num_classes, activation=\"softmax\"),\n",
    "        ]\n",
    "    )\n",
    "    \n",
    "    model.compile(loss=keras.losses.CategoricalCrossentropy(), optimizer=opt, metrics=[\"accuracy\"])\n",
    "\n",
    "    if PRINT_SUMMARY: print(model.summary())\n",
    "\n",
    "    return(model)\n"
   ]
  },
  {
   "cell_type": "markdown",
   "metadata": {},
   "source": [
    "## Train Models"
   ]
  },
  {
   "cell_type": "code",
   "execution_count": 166,
   "metadata": {},
   "outputs": [
    {
     "name": "stdout",
     "output_type": "stream",
     "text": [
      "(28, 28, 1)\n"
     ]
    }
   ],
   "source": [
    "batch_size  = 128\n",
    "epochs      = 20\n",
    "input_shape = X_train.shape[1:]\n",
    "print(input_shape)"
   ]
  },
  {
   "cell_type": "markdown",
   "metadata": {},
   "source": [
    "### Train baseline with SGD and Adam"
   ]
  },
  {
   "cell_type": "code",
   "execution_count": 167,
   "metadata": {},
   "outputs": [],
   "source": [
    "# keras.backend.clear_session()\n",
    "# model_adam = generate_model(input_shape=input_shape, num_classes=num_classes, opt=keras.optimizers.Adam(), PRINT_SUMMARY=False)\n",
    "# fit_adam = model_adam.fit(X_train, y_train, batch_size=batch_size, epochs=epochs, validation_data=(X_valid, y_valid), verbose=1)"
   ]
  },
  {
   "cell_type": "code",
   "execution_count": 168,
   "metadata": {},
   "outputs": [],
   "source": [
    "# keras.backend.clear_session()\n",
    "# model_sgd = generate_model(input_shape=input_shape, num_classes=num_classes, opt=keras.optimizers.SGD(), PRINT_SUMMARY=False)\n",
    "# fit_sgd = model_sgd.fit(X_train, y_train, batch_size=batch_size, epochs=epochs, validation_data=(X_valid, y_valid), verbose=1)"
   ]
  },
  {
   "cell_type": "code",
   "execution_count": 170,
   "metadata": {},
   "outputs": [
    {
     "name": "stdout",
     "output_type": "stream",
     "text": [
      "{'name': 'hagrad', 'epsilon': 1.0, 'gamma': 10.0, 'delta': 0.09090909090909091, 'kinetic_energy': 'deprecated', 'kinetic_energy_gradient': 'Power kinetic energy (1/A) * ( ||p||^a + 1 )^(A/a) - (1/A) with gradient p * ||p||^(a-2) * ( ||p||^a + 1 )^(A/a-1)'}\n",
      "Epoch 1/20\n",
      "469/469 [==============================] - 3s 5ms/step - loss: 0.4204 - accuracy: 0.8672 - val_loss: 0.1169 - val_accuracy: 0.9640\n",
      "Epoch 2/20\n",
      "469/469 [==============================] - 2s 5ms/step - loss: 0.1504 - accuracy: 0.9540 - val_loss: 0.0808 - val_accuracy: 0.9756\n",
      "Epoch 3/20\n",
      "469/469 [==============================] - 2s 5ms/step - loss: 0.1194 - accuracy: 0.9632 - val_loss: 0.0642 - val_accuracy: 0.9807\n",
      "Epoch 4/20\n",
      "469/469 [==============================] - 2s 4ms/step - loss: 0.1015 - accuracy: 0.9686 - val_loss: 0.0585 - val_accuracy: 0.9821\n",
      "Epoch 5/20\n",
      "469/469 [==============================] - 2s 4ms/step - loss: 0.0929 - accuracy: 0.9717 - val_loss: 0.0564 - val_accuracy: 0.9825\n",
      "Epoch 6/20\n",
      "469/469 [==============================] - 2s 4ms/step - loss: 0.0834 - accuracy: 0.9747 - val_loss: 0.0476 - val_accuracy: 0.9850\n",
      "Epoch 7/20\n",
      "469/469 [==============================] - 2s 4ms/step - loss: 0.0796 - accuracy: 0.9746 - val_loss: 0.0453 - val_accuracy: 0.9847\n",
      "Epoch 8/20\n",
      "469/469 [==============================] - 2s 4ms/step - loss: 0.0743 - accuracy: 0.9772 - val_loss: 0.0414 - val_accuracy: 0.9870\n",
      "Epoch 9/20\n",
      "469/469 [==============================] - 2s 5ms/step - loss: 0.0729 - accuracy: 0.9773 - val_loss: 0.0388 - val_accuracy: 0.9872\n",
      "Epoch 10/20\n",
      "469/469 [==============================] - 2s 4ms/step - loss: 0.0679 - accuracy: 0.9790 - val_loss: 0.0414 - val_accuracy: 0.9864\n",
      "Epoch 11/20\n",
      "469/469 [==============================] - 2s 4ms/step - loss: 0.0624 - accuracy: 0.9811 - val_loss: 0.0360 - val_accuracy: 0.9886\n",
      "Epoch 12/20\n",
      "469/469 [==============================] - 2s 5ms/step - loss: 0.0614 - accuracy: 0.9807 - val_loss: 0.0384 - val_accuracy: 0.9876\n",
      "Epoch 13/20\n",
      "469/469 [==============================] - 2s 5ms/step - loss: 0.0595 - accuracy: 0.9815 - val_loss: 0.0378 - val_accuracy: 0.9869\n",
      "Epoch 14/20\n",
      "469/469 [==============================] - 2s 5ms/step - loss: 0.0558 - accuracy: 0.9828 - val_loss: 0.0354 - val_accuracy: 0.9880\n",
      "Epoch 15/20\n",
      "469/469 [==============================] - 2s 5ms/step - loss: 0.0554 - accuracy: 0.9831 - val_loss: 0.0349 - val_accuracy: 0.9885\n",
      "Epoch 16/20\n",
      "469/469 [==============================] - 2s 5ms/step - loss: 0.0524 - accuracy: 0.9837 - val_loss: 0.0315 - val_accuracy: 0.9888\n",
      "Epoch 17/20\n",
      "469/469 [==============================] - 2s 4ms/step - loss: 0.0522 - accuracy: 0.9840 - val_loss: 0.0313 - val_accuracy: 0.9891\n",
      "Epoch 18/20\n",
      "469/469 [==============================] - 2s 4ms/step - loss: 0.0503 - accuracy: 0.9844 - val_loss: 0.0308 - val_accuracy: 0.9895\n",
      "Epoch 19/20\n",
      "469/469 [==============================] - 2s 5ms/step - loss: 0.0509 - accuracy: 0.9844 - val_loss: 0.0303 - val_accuracy: 0.9898\n",
      "Epoch 20/20\n",
      "469/469 [==============================] - 2s 5ms/step - loss: 0.0493 - accuracy: 0.9844 - val_loss: 0.0300 - val_accuracy: 0.9895\n"
     ]
    }
   ],
   "source": [
    "keras.backend.clear_session()\n",
    "\n",
    "power_gradients = KineticEnergyGradients(power_a=2., power_A=10.)\n",
    "\n",
    "custom_hagrad=Hagrad(epsilon=1., gamma=10., kinetic_energy_gradient=power_gradients.power)\n",
    "print(custom_hagrad.get_config())\n",
    "\n",
    "model_hagrad = generate_model(\n",
    "    input_shape=input_shape, \n",
    "    num_classes=num_classes, \n",
    "    opt=custom_hagrad, \n",
    "    PRINT_SUMMARY=False\n",
    ")\n",
    "\n",
    "fit_hagrad = model_hagrad.fit(X_train, y_train, batch_size=batch_size, epochs=epochs, validation_data=(X_valid, y_valid), verbose=1)"
   ]
  },
  {
   "cell_type": "markdown",
   "metadata": {},
   "source": [
    "## Visualizing"
   ]
  },
  {
   "cell_type": "code",
   "execution_count": 171,
   "metadata": {},
   "outputs": [],
   "source": [
    "epochs_arr = np.arange(epochs)\n",
    "\n",
    "## Keras is evaluating the validation error in the end of each epoch. \n",
    "#  Therefore these values get shifted for the visualization:\n",
    "epochs_arr_val = epochs_arr + 0.5\n",
    "\n"
   ]
  },
  {
   "cell_type": "code",
   "execution_count": 176,
   "metadata": {},
   "outputs": [
    {
     "data": {
      "image/png": "[encoded data removed]",
      "text/plain": [
       "<Figure size 1152x720 with 1 Axes>"
      ]
     },
     "metadata": {
      "needs_background": "light"
     },
     "output_type": "display_data"
    }
   ],
   "source": [
    "fig, ax = plt.subplots(figsize=(16, 10))\n",
    "ax.set_title(\"Comparison of Hagrad with commonly used Optimizers\", fontsize=18)\n",
    "# ax.plot(epochs_arr, fit_adam.history['loss'], \"r-\", label=\"keras.optimizers.Adam training\") \n",
    "# ax.plot(epochs_arr_val, fit_adam.history['val_loss'], \"r--\", label=\"keras.optimizers.Adam validation\") \n",
    "# plt.plot(epochs_arr, fit_sgd.history['loss'], \"g-\", label=\"keras.optimizers.SGD training\") \n",
    "# plt.plot(epochs_arr_val, fit_sgd.history['val_loss'], \"g--\", label=\"keras.optimizers.SGD validation\") \n",
    "plt.plot(epochs_arr, fit_hagrad.history['loss'], \"k-\", label=\"Hagrad training\") \n",
    "plt.plot(epochs_arr_val, fit_hagrad.history['val_loss'], \"k--\", label=\"Hagrad validation\") \n",
    "ax.set_xlabel(\"Epochs\")\n",
    "ax.set_ylabel(\"Loss - CategoricalCrossentropy\")\n",
    "leg = ax.legend(frameon=True)\n",
    "plt.draw()\n",
    "\n",
    "p = leg.get_frame().get_bbox().bounds\n",
    "scale_x = ax.get_xlim()[1] - ax.get_xlim()[0]\n",
    "scale_y = ax.get_ylim()[1] - ax.get_ylim()[0]\n",
    "ax.text(\n",
    "    x=ax.get_xlim()[1] - 0.2*scale_x, y=p[3]/100. - 0.1*scale_y, \n",
    "    s=\"Note that validation errors \\nseem smaller than trainig errors \\ndue to Dropout.\", \n",
    "    bbox=dict(facecolor='wheat', alpha=0.5, boxstyle='round,pad=1'),\n",
    "    #ha=\"right\"\n",
    "    )\n",
    "plt.show()"
   ]
  },
  {
   "cell_type": "code",
   "execution_count": null,
   "metadata": {},
   "outputs": [],
   "source": []
  }
 ],
 "metadata": {
  "interpreter": {
   "hash": "2a35896fa9730502da6af1aea083e21fdd9e65ddb8689fcbeb076a8d96ff2976"
  },
  "kernelspec": {
   "display_name": "Python 3.9.12 ('tensorbrot')",
   "language": "python",
   "name": "python3"
  },
  "language_info": {
   "codemirror_mode": {
    "name": "ipython",
    "version": 3
   },
   "file_extension": ".py",
   "mimetype": "text/x-python",
   "name": "python",
   "nbconvert_exporter": "python",
   "pygments_lexer": "ipython3",
   "version": "3.9.12"
  },
  "orig_nbformat": 4
 },
 "nbformat": 4,
 "nbformat_minor": 2
}
