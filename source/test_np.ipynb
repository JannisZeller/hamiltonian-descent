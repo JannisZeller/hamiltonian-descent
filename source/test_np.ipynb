{
 "cells": [
  {
   "cell_type": "markdown",
   "metadata": {},
   "source": [
    "# First Tests and Exploration"
   ]
  },
  {
   "cell_type": "code",
   "execution_count": 1,
   "metadata": {},
   "outputs": [],
   "source": [
    "## Imports\n",
    "# import tensorflow as tf\n",
    "import numpy as np\n",
    "import matplotlib.pyplot as plt\n",
    "from typing import Callable\n",
    "from scipy.optimize import approx_fprime"
   ]
  },
  {
   "cell_type": "code",
   "execution_count": 2,
   "metadata": {},
   "outputs": [],
   "source": [
    "## Definition of test functions\n",
    "def f(x: np.ndarray) -> float:\n",
    "    if type(x) == list: x = np.array(x)\n",
    "    return(np.linalg.norm(x)**8.)\n",
    "\n",
    "def grad_f(x: np.ndarray) -> np.ndarray:\n",
    "    if type(x) == list: x = np.array(x)\n",
    "    return(8*x*np.linalg.norm(x)**6.)"
   ]
  },
  {
   "cell_type": "code",
   "execution_count": 3,
   "metadata": {},
   "outputs": [
    {
     "data": {
      "text/plain": [
       "True"
      ]
     },
     "execution_count": 3,
     "metadata": {},
     "output_type": "execute_result"
    }
   ],
   "source": [
    "np.allclose(f([1, 2]), 5**4)"
   ]
  },
  {
   "cell_type": "code",
   "execution_count": 4,
   "metadata": {},
   "outputs": [],
   "source": [
    "class HamiltonianDescent:\n",
    "\n",
    "    kinetic_energy_choices: list[str] = [\"square\", \"relativistic\"]\n",
    "    kinetic_energy: str \n",
    "    finite_elements_diff: bool\n",
    "    numeric_diff_epsilon: float\n",
    "    epsilon: float\n",
    "    gamma: float\n",
    "    convergence_tolerance: float\n",
    "    max_iterations: int\n",
    "\n",
    "    def __init__(\n",
    "        self, \n",
    "        kinetic_energy: str = \"square\", \n",
    "        finite_elements_diff: bool=True, \n",
    "        epsilon: float=1e-5, \n",
    "        gamma: float=1e5, \n",
    "        convergence_tolerance: float=1e-5,\n",
    "        max_iterations: int=1000,\n",
    "        numeric_diff_epsilon: float=None\n",
    "    ):\n",
    "        if kinetic_energy not in self.kinetic_energy_choices: raise ValueError(f\"The kinetic_energy attribute must be in {self.kinetic_energy_choices}\")\n",
    "        self.kinetic_energy = kinetic_energy\n",
    "        self.numeric_diff_epsilon = numeric_diff_epsilon\n",
    "        self.epsilon = epsilon\n",
    "        self.gamma = gamma\n",
    "        self.convergence_tolerance = convergence_tolerance\n",
    "        self.finite_elements_diff = finite_elements_diff\n",
    "        self.max_iterations = max_iterations\n",
    "\n",
    "    ## Providing numeric gradient from scipy if no analytical gradient is known.\n",
    "    def numeric_diff(self, x: np.ndarray, f: Callable[[np.ndarray], float]) -> np.ndarray:\n",
    "        grad_func = approx_fprime(x, f, epsilon=self.numeric_diff_epsilon)\n",
    "        return(grad_func)\n",
    "\n",
    "    def grad_square(self, p: np.ndarray) -> np.ndarray:\n",
    "        if type(p) == list: p = np.array(p)\n",
    "        return(np.array(p))\n",
    "        \n",
    "    def grad_relativ(self, p: np.ndarray) -> np.ndarray:\n",
    "        if type(p) == list: p = np.array(p)\n",
    "        return(np.array(p) / np.sqrt(np.linalg.norm(p)**2 + 1.))\n",
    "\n",
    "    def update(\n",
    "        self,\n",
    "        x: np.ndarray, \n",
    "        p: np.ndarray, \n",
    "        f: Callable[[np.ndarray], float]=None,\n",
    "        grad_f: Callable[[np.ndarray], np.ndarray]=None,\n",
    "    ) -> tuple[np.ndarray, np.ndarray]:\n",
    "\n",
    "        if type(p) == list: p = np.array(p)\n",
    "        if type(x) == list: x = np.array(x)\n",
    "        \n",
    "        delta = 1. / (1.+self.gamma*self.epsilon)\n",
    "\n",
    "        ## Updates\n",
    "        if not self.finite_elements_diff:\n",
    "            pp = delta*p - self.epsilon*delta * grad_f(x)\n",
    "        if self.finite_elements_diff:\n",
    "            pp = delta*p - self.epsilon*delta * self.numeric_diff(x, f)\n",
    "        if self.kinetic_energy == \"square\":\n",
    "            xx = x + self.epsilon * self.grad_square(p)\n",
    "        if self.kinetic_energy == \"relativistic\":\n",
    "            xx = x + self.epsilon * self.grad_relativ(p)\n",
    "\n",
    "        return(pp, xx)\n",
    "\n",
    "    ## Full algorithm\n",
    "    def optimize(\n",
    "        self,\n",
    "        f: Callable[[np.ndarray], float],\n",
    "        grad_f: Callable[[np.ndarray], np.ndarray]=None,\n",
    "        dim: int=2,\n",
    "        x0: np.ndarray = None,\n",
    "        p0: np.ndarray = None,\n",
    "    ) -> dict[np.ndarray, np.ndarray, float, np.ndarray, np.ndarray]:\n",
    "        \n",
    "        if x0 == None: x = np.random.uniform(size=dim) \n",
    "        else: x = x0\n",
    "        if p0 == None: p = np.random.uniform(size=dim)\n",
    "        else: p = p0\n",
    "\n",
    "        ## First iteration\n",
    "        f_history = np.array(f(x))\n",
    "        x_history = np.array(x)\n",
    "        p_history = np.array(p)\n",
    "\n",
    "        ## Following iterations\n",
    "        i = 0\n",
    "        while i < self.max_iterations: # and np.abs(f_history[-1] - f_history[-2]) > self.convergence_tolerance\n",
    "            x, p = self.update(x, p, f, grad_f)\n",
    "            f_history = np.hstack((f_history, f(x)))\n",
    "            x_history = np.vstack((x_history, x))\n",
    "            p_history = np.vstack((p_history, p))\n",
    "            i += 1\n",
    "\n",
    "        return_dict = {\n",
    "            'x_star': x,\n",
    "            'p_star': p,\n",
    "            'f_min': f_history[-1],\n",
    "            'f_history': f_history,\n",
    "            'x_history': x_history,\n",
    "            'p_history': p_history\n",
    "        }\n",
    "\n",
    "        return return_dict\n",
    "\n",
    "\n",
    "    "
   ]
  },
  {
   "cell_type": "code",
   "execution_count": 5,
   "metadata": {},
   "outputs": [],
   "source": [
    "f_dim = 2"
   ]
  },
  {
   "cell_type": "code",
   "execution_count": 6,
   "metadata": {},
   "outputs": [
    {
     "name": "stdout",
     "output_type": "stream",
     "text": [
      "1.00E+02\n"
     ]
    }
   ],
   "source": [
    "## Searching for a good gamma-value when dimensionality is given:\n",
    "print(f\"{10.**(f_dim):.2E}\")"
   ]
  },
  {
   "cell_type": "code",
   "execution_count": 7,
   "metadata": {},
   "outputs": [],
   "source": [
    "test = HamiltonianDescent(kinetic_energy=\"relativistic\", gamma=1e5, max_iterations=30)"
   ]
  },
  {
   "cell_type": "code",
   "execution_count": 8,
   "metadata": {},
   "outputs": [
    {
     "data": {
      "text/plain": [
       "True"
      ]
     },
     "execution_count": 8,
     "metadata": {},
     "output_type": "execute_result"
    }
   ],
   "source": [
    "np.allclose(test.numeric_diff(x=[1, 1], f=f), grad_f([1, 1]))"
   ]
  },
  {
   "cell_type": "code",
   "execution_count": 9,
   "metadata": {},
   "outputs": [
    {
     "name": "stdout",
     "output_type": "stream",
     "text": [
      "[3.04722373e-05 2.27099309e-05]\n",
      "4.351384777630224e-36\n"
     ]
    }
   ],
   "source": [
    "result = test.optimize(f, dim=f_dim)\n",
    "print(result['x_star'][:5])\n",
    "print(result['f_min'])"
   ]
  },
  {
   "cell_type": "code",
   "execution_count": 10,
   "metadata": {},
   "outputs": [
    {
     "data": {
      "image/png": "[encoded data removed]",
      "text/plain": [
       "<Figure size 720x504 with 1 Axes>"
      ]
     },
     "metadata": {
      "needs_background": "light"
     },
     "output_type": "display_data"
    }
   ],
   "source": [
    "relevant_f_vals = result['f_history'][result['f_history'] > 0]\n",
    "it = np.arange(0, len(relevant_f_vals))\n",
    "\n",
    "plt.figure(figsize=(10, 7))\n",
    "plt.scatter(it, np.log(relevant_f_vals)) \n",
    "plt.show()"
   ]
  },
  {
   "cell_type": "markdown",
   "metadata": {},
   "source": [
    "#### Following only make sense for $f: \\R^{2} \\to \\R$, i. e. $x \\in \\R^{2}$"
   ]
  },
  {
   "cell_type": "code",
   "execution_count": 11,
   "metadata": {},
   "outputs": [
    {
     "data": {
      "image/png": "[encoded data removed]",
      "text/plain": [
       "<Figure size 720x504 with 1 Axes>"
      ]
     },
     "metadata": {
      "needs_background": "light"
     },
     "output_type": "display_data"
    }
   ],
   "source": [
    "plt.figure(figsize=(10, 7))\n",
    "plt.scatter(result['x_history'][:, 0], result['x_history'][:, 1])\n",
    "plt.show()"
   ]
  },
  {
   "cell_type": "code",
   "execution_count": 12,
   "metadata": {},
   "outputs": [
    {
     "data": {
      "image/png": "[encoded data removed]",
      "text/plain": [
       "<Figure size 720x504 with 1 Axes>"
      ]
     },
     "metadata": {
      "needs_background": "light"
     },
     "output_type": "display_data"
    }
   ],
   "source": [
    "plt.figure(figsize=(10, 7))\n",
    "plt.scatter(result['p_history'][:, 0], result['p_history'][:, 1])\n",
    "plt.show()"
   ]
  },
  {
   "cell_type": "code",
   "execution_count": null,
   "metadata": {},
   "outputs": [],
   "source": []
  }
 ],
 "metadata": {
  "interpreter": {
   "hash": "2a35896fa9730502da6af1aea083e21fdd9e65ddb8689fcbeb076a8d96ff2976"
  },
  "kernelspec": {
   "display_name": "Python 3.9.12 ('tensorbrot')",
   "language": "python",
   "name": "python3"
  },
  "language_info": {
   "codemirror_mode": {
    "name": "ipython",
    "version": 3
   },
   "file_extension": ".py",
   "mimetype": "text/x-python",
   "name": "python",
   "nbconvert_exporter": "python",
   "pygments_lexer": "ipython3",
   "version": "3.9.12"
  },
  "orig_nbformat": 4
 },
 "nbformat": 4,
 "nbformat_minor": 2
}
